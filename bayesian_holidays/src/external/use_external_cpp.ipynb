{
 "cells": [
  {
   "cell_type": "code",
   "execution_count": 1,
   "id": "70fa0ed6",
   "metadata": {},
   "outputs": [
    {
     "name": "stdout",
     "output_type": "stream",
     "text": [
      "Installing CmdStan version: 2.32.2\n",
      "Install directory: /Users/daniel.marthaler/.cmdstan\n",
      "CmdStan version 2.32.2 already installed\n"
     ]
    }
   ],
   "source": [
    "%matplotlib inline\n",
    "%config InlineBackend.figure_format = 'retina'\n",
    "\n",
    "%load_ext autoreload\n",
    "%autoreload 2\n",
    "\n",
    "import matplotlib.pyplot as plt\n",
    "import numpy as np\n",
    "import pandas as pd\n",
    "\n",
    "import warnings\n",
    "\n",
    "plt.style.use(\"ggplot\")\n",
    "warnings.filterwarnings('ignore')\n",
    "\n",
    "from pandas.plotting import register_matplotlib_converters\n",
    "register_matplotlib_converters()\n",
    "\n",
    "plt.rc('figure', figsize=(16, 10))\n",
    "plt.rc('font', size=14)\n",
    "\n",
    "pd.set_option('display.max_rows', 500)\n",
    "\n",
    "import cmdstanpy\n",
    "cmdstanpy.install_cmdstan()\n",
    "\n",
    "from cmdstanpy import CmdStanModel"
   ]
  },
  {
   "cell_type": "code",
   "execution_count": 2,
   "id": "a156fde6",
   "metadata": {},
   "outputs": [],
   "source": [
    "import logging"
   ]
  },
  {
   "cell_type": "code",
   "execution_count": 3,
   "id": "de5ece3f",
   "metadata": {},
   "outputs": [],
   "source": [
    "cmdstanpy_logger = logging.getLogger(\"cmdstanpy\")"
   ]
  },
  {
   "cell_type": "code",
   "execution_count": 4,
   "id": "442c87f6",
   "metadata": {},
   "outputs": [],
   "source": [
    "cmdstanpy_logger.disabled = False"
   ]
  },
  {
   "cell_type": "code",
   "execution_count": 5,
   "id": "615c48b1",
   "metadata": {},
   "outputs": [],
   "source": [
    "cmdstanpy_logger.handlers = []"
   ]
  },
  {
   "cell_type": "code",
   "execution_count": 6,
   "id": "3208205a",
   "metadata": {},
   "outputs": [],
   "source": [
    "cmdstanpy_logger.setLevel(logging.DEBUG)"
   ]
  },
  {
   "cell_type": "code",
   "execution_count": 7,
   "id": "5bdcc399",
   "metadata": {},
   "outputs": [],
   "source": [
    "handler = logging.FileHandler('all.log')"
   ]
  },
  {
   "cell_type": "code",
   "execution_count": 8,
   "id": "ca19dc46",
   "metadata": {},
   "outputs": [],
   "source": [
    "handler.setLevel(logging.DEBUG)"
   ]
  },
  {
   "cell_type": "code",
   "execution_count": 9,
   "id": "364214d9",
   "metadata": {},
   "outputs": [],
   "source": [
    "handler.setFormatter(\n",
    "    logging.Formatter(\n",
    "        '%(asctime)s - %(name)s - %(levelname)s - %(message)s',\n",
    "        \"%H:%M:%S\",\n",
    "    )\n",
    ")"
   ]
  },
  {
   "cell_type": "code",
   "execution_count": 10,
   "id": "0306a517",
   "metadata": {},
   "outputs": [],
   "source": [
    "cmdstanpy_logger.addHandler(handler)"
   ]
  },
  {
   "cell_type": "code",
   "execution_count": 11,
   "id": "10e2e749",
   "metadata": {},
   "outputs": [],
   "source": [
    "cpp_options = { \n",
    "    'CXXFLAGS' : '-Wno-deprecated-declarations',\n",
    "    \"CXX\": \"arch -arch arm64e clang++\"\n",
    "}"
   ]
  },
  {
   "cell_type": "code",
   "execution_count": 12,
   "id": "fb2e209c",
   "metadata": {},
   "outputs": [
    {
     "data": {
      "application/vnd.jupyter.widget-view+json": {
       "model_id": "b6e09e691c614022be2de7378ddc13e4",
       "version_major": 2,
       "version_minor": 0
      },
      "text/plain": [
       " (00:00) |            | Building CmdStan                     "
      ]
     },
     "metadata": {},
     "output_type": "display_data"
    }
   ],
   "source": [
    "cmdstanpy.rebuild_cmdstan()"
   ]
  },
  {
   "cell_type": "code",
   "execution_count": 14,
   "id": "cc3f4835",
   "metadata": {
    "scrolled": false
   },
   "outputs": [
    {
     "ename": "ValueError",
     "evalue": "Failed to compile Stan model '/Users/daniel.marthaler/dev/bayesian_holidays/bayesian_holidays/src/external/bernoulli.stan'. Console:\n\n--- Translating Stan model to C++ code ---\nbin/stanc --allow-undefined --o=/Users/daniel.marthaler/dev/bayesian_holidays/bayesian_holidays/src/external/bernoulli.hpp /Users/daniel.marthaler/dev/bayesian_holidays/bayesian_holidays/src/external/bernoulli.stan\n\n--- Compiling, linking C++ code ---\narch -arch arm64e clang++ -Wno-deprecated-declarations    -DBOOST_DISABLE_ASSERTS          -c -include-pch stan/src/stan/model/model_header.hpp.gch -include /Users/daniel.marthaler/dev/bayesian_holidays/bayesian_holidays/src/external/make_odds_marthaler.hpp -x c++ -o /Users/daniel.marthaler/dev/bayesian_holidays/bayesian_holidays/src/external/bernoulli.o /Users/daniel.marthaler/dev/bayesian_holidays/bayesian_holidays/src/external/bernoulli.hpp\nerror: C++11 was enabled in PCH file but is currently disabled\n1 error generated.\nmake: *** [/Users/daniel.marthaler/dev/bayesian_holidays/bayesian_holidays/src/external/bernoulli] Error 1\n\nCommand ['make', 'STANCFLAGS+=--allow-undefined', 'CXXFLAGS=-Wno-deprecated-declarations', 'CXX=arch -arch arm64e clang++', 'USER_HEADER=/Users/daniel.marthaler/dev/bayesian_holidays/bayesian_holidays/src/external/make_odds_marthaler.hpp', '/Users/daniel.marthaler/dev/bayesian_holidays/bayesian_holidays/src/external/bernoulli']\n\terror during processing No such file or directory\n",
     "output_type": "error",
     "traceback": [
      "\u001b[0;31m---------------------------------------------------------------------------\u001b[0m",
      "\u001b[0;31mValueError\u001b[0m                                Traceback (most recent call last)",
      "Cell \u001b[0;32mIn [14], line 1\u001b[0m\n\u001b[0;32m----> 1\u001b[0m holiday_model \u001b[38;5;241m=\u001b[39m \u001b[43mCmdStanModel\u001b[49m\u001b[43m(\u001b[49m\n\u001b[1;32m      2\u001b[0m \u001b[43m    \u001b[49m\u001b[43mstan_file\u001b[49m\u001b[38;5;241;43m=\u001b[39;49m\u001b[38;5;124;43m'\u001b[39;49m\u001b[38;5;124;43m/Users/daniel.marthaler/dev/bayesian_holidays/bayesian_holidays/src/external/bernoulli.stan\u001b[39;49m\u001b[38;5;124;43m'\u001b[39;49m\u001b[43m,\u001b[49m\n\u001b[1;32m      3\u001b[0m \u001b[43m    \u001b[49m\u001b[43muser_header\u001b[49m\u001b[38;5;241;43m=\u001b[39;49m\u001b[38;5;124;43m'\u001b[39;49m\u001b[38;5;124;43m/Users/daniel.marthaler/dev/bayesian_holidays/bayesian_holidays/src/external/make_odds_marthaler.hpp\u001b[39;49m\u001b[38;5;124;43m'\u001b[39;49m\u001b[43m,\u001b[49m\n\u001b[1;32m      4\u001b[0m \u001b[43m    \u001b[49m\u001b[43mcpp_options\u001b[49m\u001b[38;5;241;43m=\u001b[39;49m\u001b[43mcpp_options\u001b[49m\u001b[43m,\u001b[49m\n\u001b[1;32m      5\u001b[0m \u001b[43m    \u001b[49m\u001b[43mstanc_options\u001b[49m\u001b[38;5;241;43m=\u001b[39;49m\u001b[43m{\u001b[49m\u001b[38;5;124;43m'\u001b[39;49m\u001b[38;5;124;43mallow_undefined\u001b[39;49m\u001b[38;5;124;43m'\u001b[39;49m\u001b[43m:\u001b[49m\u001b[38;5;28;43;01mTrue\u001b[39;49;00m\u001b[43m}\u001b[49m\n\u001b[1;32m      6\u001b[0m \u001b[43m    \u001b[49m\u001b[43m)\u001b[49m\n",
      "File \u001b[0;32m~/.pyenv/versions/cmdstanpy/lib/python3.9/site-packages/cmdstanpy/model.py:236\u001b[0m, in \u001b[0;36mCmdStanModel.__init__\u001b[0;34m(self, model_name, stan_file, exe_file, compile, stanc_options, cpp_options, user_header)\u001b[0m\n\u001b[1;32m    233\u001b[0m         get_logger()\u001b[38;5;241m.\u001b[39mdebug(\u001b[38;5;124m\"\u001b[39m\u001b[38;5;124mTBB already found in load path\u001b[39m\u001b[38;5;124m\"\u001b[39m)\n\u001b[1;32m    235\u001b[0m \u001b[38;5;28;01mif\u001b[39;00m \u001b[38;5;28mcompile\u001b[39m \u001b[38;5;129;01mand\u001b[39;00m \u001b[38;5;28mself\u001b[39m\u001b[38;5;241m.\u001b[39m_exe_file \u001b[38;5;129;01mis\u001b[39;00m \u001b[38;5;28;01mNone\u001b[39;00m:\n\u001b[0;32m--> 236\u001b[0m     \u001b[38;5;28;43mself\u001b[39;49m\u001b[38;5;241;43m.\u001b[39;49m\u001b[43mcompile\u001b[49m\u001b[43m(\u001b[49m\u001b[43mforce\u001b[49m\u001b[38;5;241;43m=\u001b[39;49m\u001b[38;5;28;43mstr\u001b[39;49m\u001b[43m(\u001b[49m\u001b[38;5;28;43mcompile\u001b[39;49m\u001b[43m)\u001b[49m\u001b[38;5;241;43m.\u001b[39;49m\u001b[43mlower\u001b[49m\u001b[43m(\u001b[49m\u001b[43m)\u001b[49m\u001b[43m \u001b[49m\u001b[38;5;241;43m==\u001b[39;49m\u001b[43m \u001b[49m\u001b[38;5;124;43m'\u001b[39;49m\u001b[38;5;124;43mforce\u001b[39;49m\u001b[38;5;124;43m'\u001b[39;49m\u001b[43m)\u001b[49m\n",
      "File \u001b[0;32m~/.pyenv/versions/cmdstanpy/lib/python3.9/site-packages/cmdstanpy/model.py:563\u001b[0m, in \u001b[0;36mCmdStanModel.compile\u001b[0;34m(self, force, stanc_options, cpp_options, user_header, override_options)\u001b[0m\n\u001b[1;32m    556\u001b[0m \u001b[38;5;28;01mif\u001b[39;00m \u001b[38;5;124m'\u001b[39m\u001b[38;5;124mPCH\u001b[39m\u001b[38;5;124m'\u001b[39m \u001b[38;5;129;01min\u001b[39;00m console \u001b[38;5;129;01mor\u001b[39;00m \u001b[38;5;124m'\u001b[39m\u001b[38;5;124mprecompiled header\u001b[39m\u001b[38;5;124m'\u001b[39m \u001b[38;5;129;01min\u001b[39;00m console:\n\u001b[1;32m    557\u001b[0m     get_logger()\u001b[38;5;241m.\u001b[39mwarning(\n\u001b[1;32m    558\u001b[0m         \u001b[38;5;124m\"\u001b[39m\u001b[38;5;124mCmdStan\u001b[39m\u001b[38;5;124m'\u001b[39m\u001b[38;5;124ms precompiled header (PCH) files \u001b[39m\u001b[38;5;124m\"\u001b[39m\n\u001b[1;32m    559\u001b[0m         \u001b[38;5;124m\"\u001b[39m\u001b[38;5;124mmay need to be rebuilt.\u001b[39m\u001b[38;5;124m\"\u001b[39m\n\u001b[1;32m    560\u001b[0m         \u001b[38;5;124m\"\u001b[39m\u001b[38;5;124mPlease run cmdstanpy.rebuild_cmdstan().\u001b[39m\u001b[38;5;130;01m\\n\u001b[39;00m\u001b[38;5;124m\"\u001b[39m\n\u001b[1;32m    561\u001b[0m         \u001b[38;5;124m\"\u001b[39m\u001b[38;5;124mIf the issue persists please open a bug report\u001b[39m\u001b[38;5;124m\"\u001b[39m\n\u001b[1;32m    562\u001b[0m     )\n\u001b[0;32m--> 563\u001b[0m \u001b[38;5;28;01mraise\u001b[39;00m \u001b[38;5;167;01mValueError\u001b[39;00m(\n\u001b[1;32m    564\u001b[0m     \u001b[38;5;124mf\u001b[39m\u001b[38;5;124m\"\u001b[39m\u001b[38;5;124mFailed to compile Stan model \u001b[39m\u001b[38;5;124m'\u001b[39m\u001b[38;5;132;01m{\u001b[39;00m\u001b[38;5;28mself\u001b[39m\u001b[38;5;241m.\u001b[39m_stan_file\u001b[38;5;132;01m}\u001b[39;00m\u001b[38;5;124m'\u001b[39m\u001b[38;5;124m. \u001b[39m\u001b[38;5;124m\"\u001b[39m\n\u001b[1;32m    565\u001b[0m     \u001b[38;5;124mf\u001b[39m\u001b[38;5;124m\"\u001b[39m\u001b[38;5;124mConsole:\u001b[39m\u001b[38;5;130;01m\\n\u001b[39;00m\u001b[38;5;132;01m{\u001b[39;00mconsole\u001b[38;5;132;01m}\u001b[39;00m\u001b[38;5;124m\"\u001b[39m\n\u001b[1;32m    566\u001b[0m )\n",
      "\u001b[0;31mValueError\u001b[0m: Failed to compile Stan model '/Users/daniel.marthaler/dev/bayesian_holidays/bayesian_holidays/src/external/bernoulli.stan'. Console:\n\n--- Translating Stan model to C++ code ---\nbin/stanc --allow-undefined --o=/Users/daniel.marthaler/dev/bayesian_holidays/bayesian_holidays/src/external/bernoulli.hpp /Users/daniel.marthaler/dev/bayesian_holidays/bayesian_holidays/src/external/bernoulli.stan\n\n--- Compiling, linking C++ code ---\narch -arch arm64e clang++ -Wno-deprecated-declarations    -DBOOST_DISABLE_ASSERTS          -c -include-pch stan/src/stan/model/model_header.hpp.gch -include /Users/daniel.marthaler/dev/bayesian_holidays/bayesian_holidays/src/external/make_odds_marthaler.hpp -x c++ -o /Users/daniel.marthaler/dev/bayesian_holidays/bayesian_holidays/src/external/bernoulli.o /Users/daniel.marthaler/dev/bayesian_holidays/bayesian_holidays/src/external/bernoulli.hpp\nerror: C++11 was enabled in PCH file but is currently disabled\n1 error generated.\nmake: *** [/Users/daniel.marthaler/dev/bayesian_holidays/bayesian_holidays/src/external/bernoulli] Error 1\n\nCommand ['make', 'STANCFLAGS+=--allow-undefined', 'CXXFLAGS=-Wno-deprecated-declarations', 'CXX=arch -arch arm64e clang++', 'USER_HEADER=/Users/daniel.marthaler/dev/bayesian_holidays/bayesian_holidays/src/external/make_odds_marthaler.hpp', '/Users/daniel.marthaler/dev/bayesian_holidays/bayesian_holidays/src/external/bernoulli']\n\terror during processing No such file or directory\n"
     ]
    }
   ],
   "source": [
    "holiday_model = CmdStanModel(\n",
    "    stan_file='/Users/daniel.marthaler/dev/bayesian_holidays/bayesian_holidays/src/external/bernoulli.stan',\n",
    "    user_header='/Users/daniel.marthaler/dev/bayesian_holidays/bayesian_holidays/src/external/make_odds_marthaler.hpp',\n",
    "    cpp_options=cpp_options,\n",
    "    stanc_options={'allow_undefined':True}\n",
    "    )"
   ]
  },
  {
   "cell_type": "code",
   "execution_count": null,
   "id": "37e0f6df",
   "metadata": {},
   "outputs": [],
   "source": []
  }
 ],
 "metadata": {
  "kernelspec": {
   "display_name": "Python 3 (ipykernel)",
   "language": "python",
   "name": "python3"
  },
  "language_info": {
   "codemirror_mode": {
    "name": "ipython",
    "version": 3
   },
   "file_extension": ".py",
   "mimetype": "text/x-python",
   "name": "python",
   "nbconvert_exporter": "python",
   "pygments_lexer": "ipython3",
   "version": "3.9.10"
  }
 },
 "nbformat": 4,
 "nbformat_minor": 5
}
