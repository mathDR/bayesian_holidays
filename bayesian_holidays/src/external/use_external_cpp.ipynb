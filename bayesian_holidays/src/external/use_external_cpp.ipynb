{
 "cells": [
  {
   "cell_type": "code",
   "execution_count": 1,
   "id": "70fa0ed6",
   "metadata": {},
   "outputs": [
    {
     "name": "stdout",
     "output_type": "stream",
     "text": [
      "CmdStan install directory: /Users/daniel.marthaler/.cmdstan\n",
      "CmdStan version 2.34.1 already installed\n",
      "Test model compilation\n"
     ]
    }
   ],
   "source": [
    "%matplotlib inline\n",
    "%config InlineBackend.figure_format = 'retina'\n",
    "\n",
    "%load_ext autoreload\n",
    "%autoreload 2\n",
    "\n",
    "import matplotlib.pyplot as plt\n",
    "import numpy as np\n",
    "import pandas as pd\n",
    "\n",
    "import warnings\n",
    "\n",
    "plt.style.use(\"ggplot\")\n",
    "warnings.filterwarnings('ignore')\n",
    "\n",
    "from pandas.plotting import register_matplotlib_converters\n",
    "register_matplotlib_converters()\n",
    "\n",
    "plt.rc('figure', figsize=(16, 10))\n",
    "plt.rc('font', size=14)\n",
    "\n",
    "pd.set_option('display.max_rows', 500)\n",
    "\n",
    "import cmdstanpy\n",
    "cmdstanpy.install_cmdstan()\n",
    "\n",
    "from cmdstanpy import CmdStanModel"
   ]
  },
  {
   "cell_type": "code",
   "execution_count": 2,
   "id": "a156fde6",
   "metadata": {},
   "outputs": [],
   "source": [
    "import logging"
   ]
  },
  {
   "cell_type": "code",
   "execution_count": 3,
   "id": "de5ece3f",
   "metadata": {},
   "outputs": [],
   "source": [
    "cmdstanpy_logger = logging.getLogger(\"cmdstanpy\")"
   ]
  },
  {
   "cell_type": "code",
   "execution_count": 4,
   "id": "442c87f6",
   "metadata": {},
   "outputs": [],
   "source": [
    "cmdstanpy_logger.disabled = False"
   ]
  },
  {
   "cell_type": "code",
   "execution_count": 5,
   "id": "615c48b1",
   "metadata": {},
   "outputs": [],
   "source": [
    "cmdstanpy_logger.handlers = []"
   ]
  },
  {
   "cell_type": "code",
   "execution_count": 6,
   "id": "3208205a",
   "metadata": {},
   "outputs": [],
   "source": [
    "cmdstanpy_logger.setLevel(logging.DEBUG)"
   ]
  },
  {
   "cell_type": "code",
   "execution_count": 7,
   "id": "5bdcc399",
   "metadata": {},
   "outputs": [],
   "source": [
    "handler = logging.FileHandler('all.log')"
   ]
  },
  {
   "cell_type": "code",
   "execution_count": 8,
   "id": "ca19dc46",
   "metadata": {},
   "outputs": [],
   "source": [
    "handler.setLevel(logging.DEBUG)"
   ]
  },
  {
   "cell_type": "code",
   "execution_count": 9,
   "id": "364214d9",
   "metadata": {},
   "outputs": [],
   "source": [
    "handler.setFormatter(\n",
    "    logging.Formatter(\n",
    "        '%(asctime)s - %(name)s - %(levelname)s - %(message)s',\n",
    "        \"%H:%M:%S\",\n",
    "    )\n",
    ")"
   ]
  },
  {
   "cell_type": "code",
   "execution_count": 10,
   "id": "0306a517",
   "metadata": {},
   "outputs": [],
   "source": [
    "cmdstanpy_logger.addHandler(handler)"
   ]
  },
  {
   "cell_type": "code",
   "execution_count": 11,
   "id": "10e2e749",
   "metadata": {},
   "outputs": [],
   "source": [
    "cpp_options = { \n",
    "    'CXXFLAGS' : '-Wno-deprecated-declarations',\n",
    "    \"CXX\": \"arch -arch arm64e clang++\"\n",
    "}"
   ]
  },
  {
   "cell_type": "code",
   "execution_count": 12,
   "id": "fb2e209c",
   "metadata": {},
   "outputs": [],
   "source": [
    "#cmdstanpy.rebuild_cmdstan()"
   ]
  },
  {
   "cell_type": "code",
   "execution_count": 13,
   "id": "4c03a0c2",
   "metadata": {},
   "outputs": [],
   "source": [
    "#model_external = CmdStanModel(stan_file='bernoulli.stan', compile=False)\n",
    "model_external = CmdStanModel(stan_file='holiday.stan', compile=False)"
   ]
  },
  {
   "cell_type": "code",
   "execution_count": 15,
   "id": "34321e94",
   "metadata": {},
   "outputs": [],
   "source": [
    "model_external.compile(user_header='get_holiday_lift.hpp', stanc_options={'allow-undefined':True})"
   ]
  },
  {
   "cell_type": "code",
   "execution_count": 16,
   "id": "aaae822c",
   "metadata": {},
   "outputs": [],
   "source": [
    "assert model_external.exe_file is not None"
   ]
  },
  {
   "cell_type": "code",
   "execution_count": 16,
   "id": "37e0f6df",
   "metadata": {},
   "outputs": [
    {
     "data": {
      "application/vnd.jupyter.widget-view+json": {
       "model_id": "a6902378e87f441e9777300a30a6fd3a",
       "version_major": 2,
       "version_minor": 0
      },
      "text/plain": [
       "chain 1 |          | 00:00 Status"
      ]
     },
     "metadata": {},
     "output_type": "display_data"
    },
    {
     "data": {
      "application/vnd.jupyter.widget-view+json": {
       "model_id": "8301383f3028484c8372fd7327f3fdc1",
       "version_major": 2,
       "version_minor": 0
      },
      "text/plain": [
       "chain 2 |          | 00:00 Status"
      ]
     },
     "metadata": {},
     "output_type": "display_data"
    },
    {
     "data": {
      "application/vnd.jupyter.widget-view+json": {
       "model_id": "e8d19911242346f0adc63406c7cfa12d",
       "version_major": 2,
       "version_minor": 0
      },
      "text/plain": [
       "chain 3 |          | 00:00 Status"
      ]
     },
     "metadata": {},
     "output_type": "display_data"
    },
    {
     "data": {
      "application/vnd.jupyter.widget-view+json": {
       "model_id": "4cff92a92fd34c3c861bcff512a29d2e",
       "version_major": 2,
       "version_minor": 0
      },
      "text/plain": [
       "chain 4 |          | 00:00 Status"
      ]
     },
     "metadata": {},
     "output_type": "display_data"
    },
    {
     "name": "stdout",
     "output_type": "stream",
     "text": [
      "                                                                                                                                                                                                                                                                                                                                \n"
     ]
    },
    {
     "data": {
      "text/plain": [
       "array([0.414008 , 0.43176  , 0.0912223, ..., 0.348674 , 0.34373  ,\n",
       "       0.245376 ])"
      ]
     },
     "execution_count": 16,
     "metadata": {},
     "output_type": "execute_result"
    }
   ],
   "source": [
    "fit = model_external.sample(data={'N':10, 'y':[0,1,0,0,0,0,0,0,0,1]})\n",
    "fit.stan_variable('odds')"
   ]
  },
  {
   "cell_type": "code",
   "execution_count": null,
   "id": "f73c936c",
   "metadata": {},
   "outputs": [],
   "source": []
  },
  {
   "cell_type": "code",
   "execution_count": null,
   "id": "1d191889",
   "metadata": {},
   "outputs": [],
   "source": []
  }
 ],
 "metadata": {
  "kernelspec": {
   "display_name": "Python 3 (ipykernel)",
   "language": "python",
   "name": "python3"
  },
  "language_info": {
   "codemirror_mode": {
    "name": "ipython",
    "version": 3
   },
   "file_extension": ".py",
   "mimetype": "text/x-python",
   "name": "python",
   "nbconvert_exporter": "python",
   "pygments_lexer": "ipython3",
   "version": "3.11.1"
  },
  "varInspector": {
   "cols": {
    "lenName": 16,
    "lenType": 16,
    "lenVar": 40
   },
   "kernels_config": {
    "python": {
     "delete_cmd_postfix": "",
     "delete_cmd_prefix": "del ",
     "library": "var_list.py",
     "varRefreshCmd": "print(var_dic_list())"
    },
    "r": {
     "delete_cmd_postfix": ") ",
     "delete_cmd_prefix": "rm(",
     "library": "var_list.r",
     "varRefreshCmd": "cat(var_dic_list()) "
    }
   },
   "types_to_exclude": [
    "module",
    "function",
    "builtin_function_or_method",
    "instance",
    "_Feature"
   ],
   "window_display": false
  }
 },
 "nbformat": 4,
 "nbformat_minor": 5
}
