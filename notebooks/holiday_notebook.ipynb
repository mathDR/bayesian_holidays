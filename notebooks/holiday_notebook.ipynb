{
 "cells": [
  {
   "cell_type": "markdown",
   "metadata": {},
   "source": [
    "# Holiday Modeling Using Google Trends Data"
   ]
  },
  {
   "cell_type": "markdown",
   "metadata": {},
   "source": [
    "### Imports"
   ]
  },
  {
   "cell_type": "code",
   "execution_count": 5,
   "metadata": {},
   "outputs": [],
   "source": [
    "%load_ext autoreload\n",
    "%autoreload 2"
   ]
  },
  {
   "cell_type": "code",
   "execution_count": null,
   "metadata": {},
   "outputs": [],
   "source": [
    "font = {'family' : 'roboto',\n",
    "        'weight' : 'bold',\n",
    "        'size'   : 22}"
   ]
  },
  {
   "cell_type": "code",
   "execution_count": 1,
   "metadata": {},
   "outputs": [],
   "source": [
    "import numpy as np\n",
    "import scipy.special as ss\n",
    "import matplotlib.pyplot as plt\n",
    "import pandas as pd\n",
    "\n",
    "import matplotlib\n",
    "\n",
    "matplotlib.rc('font', **font)\n",
    "\n",
    "import cmdstanpy\n",
    "cmdstanpy.install_cmdstan()"
   ]
  },
  {
   "cell_type": "code",
   "execution_count": 6,
   "metadata": {},
   "outputs": [],
   "source": [
    "from holiday_model import fit_holiday_model"
   ]
  },
  {
   "cell_type": "code",
   "execution_count": 12,
   "metadata": {},
   "outputs": [],
   "source": [
    "search_terms = ['chocolate', 'fireworks_worldwide', 'pumpkin_spice']"
   ]
  },
  {
   "cell_type": "code",
   "execution_count": 13,
   "metadata": {},
   "outputs": [],
   "source": [
    "start_date = '2015-11-08'"
   ]
  },
  {
   "cell_type": "code",
   "execution_count": null,
   "metadata": {
    "scrolled": true
   },
   "outputs": [
    {
     "name": "stdout",
     "output_type": "stream",
     "text": [
      "/Users/danmarthaler/marthaler/holidays/data/chocolate.csv\n"
     ]
    },
    {
     "name": "stderr",
     "output_type": "stream",
     "text": [
      "INFO:cmdstanpy:found newer exe file, not recompiling\n",
      "INFO:cmdstanpy:compiled model file: /Users/danmarthaler/marthaler/holidays/new_model/new_holiday_model\n",
      "Chain 1 - warmup:   0%|          | 0/1 [00:00<?, ?it/s]\n",
      "Chain 1 - warmup:   0%|          | 0/1 [00:00<?, ?it/s]\u001b[A\n",
      "Chain 2 - warmup:   0%|          | 0/1 [00:00<?, ?it/s]\u001b[A\n",
      "Chain 1 - warmup:   0%|          | 0/500 [00:00<?, ?it/s]\u001b[A\n",
      "Chain 2 - warmup:  20%|██        | 100/500 [22:40<1:30:42, 13.61s/it]\u001b[A"
     ]
    }
   ],
   "source": [
    "holiday_fits = []\n",
    "holiday_df = []\n",
    "names = []\n",
    "for term in search_terms:\n",
    "    filename = '/Users/danmarthaler/marthaler/holidays/data/' + file + '.csv'\n",
    "    print(filename)\n",
    "    df, fit = fit_holiday_model(filename,\n",
    "                                start_date=start_date,\n",
    "                                train_split=80,\n",
    "                                num_chains=2,\n",
    "                                max_treedepth=15,\n",
    "                                adapt_delta=0.99)\n",
    "    #plot_posteriors(df,fit,filename)\n",
    "    holiday_fits.append(fit)\n",
    "    holiday_df.append(df)\n",
    "    names.append(file)\n"
   ]
  },
  {
   "cell_type": "code",
   "execution_count": null,
   "metadata": {},
   "outputs": [],
   "source": [
    "#holiday_fits[2].diagnose()"
   ]
  },
  {
   "cell_type": "code",
   "execution_count": null,
   "metadata": {
    "scrolled": true
   },
   "outputs": [],
   "source": [
    "for i,name in enumerate(names):\n",
    "    print(names[i])\n",
    "    plot_posteriors(holiday_df[i],holiday_fits[i],name)"
   ]
  },
  {
   "cell_type": "code",
   "execution_count": null,
   "metadata": {
    "scrolled": false
   },
   "outputs": [],
   "source": [
    "# for i,name in enumerate(names):\n",
    "#     print(names[i])\n",
    "#     plot_components(holiday_df[i],holiday_fits[i],name,start_date=start_date)\n"
   ]
  },
  {
   "cell_type": "code",
   "execution_count": null,
   "metadata": {},
   "outputs": [],
   "source": []
  }
 ],
 "metadata": {
  "kernelspec": {
   "display_name": "Python 3 (ipykernel)",
   "language": "python",
   "name": "python3"
  },
  "language_info": {
   "codemirror_mode": {
    "name": "ipython",
    "version": 3
   },
   "file_extension": ".py",
   "mimetype": "text/x-python",
   "name": "python",
   "nbconvert_exporter": "python",
   "pygments_lexer": "ipython3",
   "version": "3.9.10"
  }
 },
 "nbformat": 4,
 "nbformat_minor": 2
}
