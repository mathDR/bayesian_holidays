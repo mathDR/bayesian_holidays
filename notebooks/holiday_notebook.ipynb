{
 "cells": [
  {
   "cell_type": "code",
   "execution_count": 1,
   "metadata": {},
   "outputs": [],
   "source": [
    "import numpy as np\n",
    "import scipy.special as ss\n",
    "import matplotlib.pyplot as plt\n",
    "import pandas as pd"
   ]
  },
  {
   "cell_type": "code",
   "execution_count": 2,
   "metadata": {},
   "outputs": [],
   "source": [
    "from seaborn import pairplot"
   ]
  },
  {
   "cell_type": "code",
   "execution_count": 3,
   "metadata": {},
   "outputs": [
    {
     "name": "stdout",
     "output_type": "stream",
     "text": [
      "Installing CmdStan version: 2.25.0\n",
      "Install directory: /Users/danmarthaler/.cmdstanpy\n",
      "CmdStan version 2.25.0 already installed\n",
      "deleting tmpfiles dir: /var/folders/77/nm2qxy_j7z90dhx6bhhvw47h0000gp/T/tmpit2fr1tk\n",
      "done\n",
      "\n"
     ]
    },
    {
     "data": {
      "text/plain": [
       "True"
      ]
     },
     "execution_count": 3,
     "metadata": {},
     "output_type": "execute_result"
    }
   ],
   "source": [
    "import cmdstanpy\n",
    "cmdstanpy.install_cmdstan()"
   ]
  },
  {
   "cell_type": "code",
   "execution_count": 4,
   "metadata": {},
   "outputs": [],
   "source": [
    "from cmdstanpy import CmdStanModel"
   ]
  },
  {
   "cell_type": "code",
   "execution_count": 5,
   "metadata": {},
   "outputs": [],
   "source": [
    "%load_ext autoreload\n",
    "%autoreload 2"
   ]
  },
  {
   "cell_type": "code",
   "execution_count": 6,
   "metadata": {},
   "outputs": [],
   "source": [
    "from holiday_model import fit_holiday_model"
   ]
  },
  {
   "cell_type": "code",
   "execution_count": 7,
   "metadata": {},
   "outputs": [],
   "source": [
    "cmap=plt.get_cmap('Paired')"
   ]
  },
  {
   "cell_type": "code",
   "execution_count": 8,
   "metadata": {
    "code_folding": [
     3,
     9
    ]
   },
   "outputs": [],
   "source": [
    "import matplotlib\n",
    "import matplotlib.dates as mdates\n",
    "from matplotlib.dates import DateFormatter\n",
    "font = {'family' : 'roboto',\n",
    "        'weight' : 'bold',\n",
    "        'size'   : 22}\n",
    "\n",
    "matplotlib.rc('font', **font)\n",
    "\n",
    "def plot_posteriors(df, df_fit, filename, plot_train=True, plot_test=True):\n",
    "    alpha = df_fit.stan_variable('alpha');\n",
    "    seasonality = df_fit.stan_variable('seasonality');\n",
    "    holiday_effect = df_fit.stan_variable('holiday_effect');\n",
    "    log_mu = alpha.values + seasonality.values + holiday_effect.values\n",
    "    #log_mu = df_fit.stan_variable('obs_mean');\n",
    "    test_seasonality = df_fit.stan_variable('test_seasonality');\n",
    "    test_holiday_effect = df_fit.stan_variable('test_holiday_effect');\n",
    "    test_log_mu = alpha.values + test_seasonality.values + test_holiday_effect.values\n",
    "    #test_log_mu = df_fit.stan_variable('test_obsmean')\n",
    "    \n",
    "    train_date = df.date.iloc[int(0.8*df.shape[0])]\n",
    "\n",
    "    df_train = df[df.date <= train_date]\n",
    "    df_test = df[df.date > train_date]\n",
    "    \n",
    "    fig, ax = plt.subplots(figsize=(18,12))\n",
    "    if plot_train:\n",
    "        p = ax.plot(df_train.date, np.exp(log_mu[0,:]), alpha=0.01)\n",
    "        clr = p[0].get_color()\n",
    "        for i in range(1,alpha.shape[0]):\n",
    "            ax.plot(df_train.date, np.exp(log_mu[i,:]), color=clr, alpha=0.01)\n",
    "        ax.plot(df_train.date, np.exp(np.mean(log_mu,axis=0)),color='cyan',label='Mean of Posterior');\n",
    "    if plot_test:\n",
    "        p = ax.plot(df_test.date, np.exp(test_log_mu[0,:]), alpha=0.01)\n",
    "        clr = p[0].get_color()\n",
    "        for i in range(1,alpha.shape[0]):\n",
    "            ax.plot(df_test.date, np.exp(test_log_mu[i,:]), color=clr, alpha=0.01)\n",
    "        ax.plot(df_test.date, np.exp(np.mean(test_log_mu,axis=0)),color='firebrick',\n",
    "                label='OOS Posterior Mean');\n",
    "    if plot_train and plot_test:\n",
    "        ax.plot(df.date,df.observed,label='Observed',lw=2,color='black');\n",
    "        ax.set_xlim(pd.to_datetime(start_date),df.date.max())\n",
    "    elif plot_train:\n",
    "        ax.plot(df_train.date,df_train.observed,label='Observed',lw=2,color='black');\n",
    "        ax.set_xlim(pd.to_datetime(start_date),df_train.date.max())\n",
    "    elif plot_test:\n",
    "        ax.plot(df_test.date,df_test.observed,label='Observed',lw=2,color='black');\n",
    "    ax.set_xlabel('Date')\n",
    "    ax.set_ylabel('Observed')\n",
    "    #ax.legend(bbox_to_anchor=(1.05, 1), loc='upper left');\n",
    "    ax.legend(loc='upper left');\n",
    "    first_date='2016-01-01'\n",
    "    for i in range(0,5,2):\n",
    "        plt.axvspan(pd.to_datetime(first_date) + i*pd.offsets.DateOffset(years=1),\n",
    "                    pd.to_datetime(first_date) + (i+1)*pd.offsets.DateOffset(years=1),\n",
    "                    facecolor='gray', alpha=0.15)\n",
    "        #plt.axvline(pd.to_datetime(first_date) + i*pd.offsets.DateOffset(years=1),\n",
    "        #            color='red', lw=2)\n",
    "    plt.axvspan(df_train.date.min(),\n",
    "                df_train.date.max(),\n",
    "                facecolor='powderblue', alpha=0.15)\n",
    "    plt.axvspan(df_test.date.min(),\n",
    "                df_test.date.max(),\n",
    "                facecolor='orange', alpha=0.15)\n",
    "    #plt.axvline(df_test.date.min(),\n",
    "    #            color='orange', lw=3)\n",
    "    for tt in ax.get_xticklabels()[-2:]:\n",
    "        tt.set_color(\"orange\")\n",
    "    name = filename.split('/')[-1].split('.csv')[0]\n",
    "    if 'fireworks' in name:\n",
    "        name = name.split('_')[0]\n",
    "    plt.title(name)\n",
    "    plt.ylim(0.8*df.observed.min(),1.1*df.observed.max())\n",
    "    plt.xlim(pd.to_datetime(first_date),df.date.max())\n",
    "    l = [(pd.to_datetime(first_date) + pd.offsets.DateOffset(months=5)).date(), \n",
    "         (pd.to_datetime('2017-01-01') + pd.offsets.DateOffset(months=5)).date(),\n",
    "         (pd.to_datetime('2018-01-01') + pd.offsets.DateOffset(months=5)).date(),\n",
    "         (pd.to_datetime('2019-01-01') + pd.offsets.DateOffset(months=5)).date(),\n",
    "         (pd.to_datetime('2020-01-01') + pd.offsets.DateOffset(months=5)).date(),\n",
    "        ]\n",
    "    ax.set_xticks(l)\n",
    "    ax.set_xticklabels([k.year for k in l])\n",
    "    plt.show()\n",
    "    return None"
   ]
  },
  {
   "cell_type": "code",
   "execution_count": 9,
   "metadata": {
    "code_folding": [
     0
    ]
   },
   "outputs": [],
   "source": [
    "def plot_components(df, df_fit, filename, start_date='2016-01-01', plot_train=True, plot_test=True):\n",
    "    baseline = df_fit.stan_variable('baseline').values;\n",
    "    seasonality = df_fit.stan_variable('seasonality').values;\n",
    "    holiday_effect = df_fit.stan_variable('holiday_effect').values;\n",
    "\n",
    "    test_baseline = df_fit.stan_variable('test_baseline').values\n",
    "    test_seasonality = df_fit.stan_variable('test_seasonality').values;\n",
    "    test_holiday_effect = df_fit.stan_variable('test_holiday_effect').values;\n",
    "\n",
    "    \n",
    "    train_date = df.date.iloc[int(0.8*df.shape[0])]\n",
    "\n",
    "    df_train = df[df.date <= train_date]\n",
    "    df_test = df[df.date > train_date]\n",
    "    \n",
    "    fig, ax = plt.subplots(figsize=(18,12))\n",
    "    if plot_train:\n",
    "#         p = ax.plot(df_train.date, np.exp(baseline[0,:]), alpha=0.05)\n",
    "#         clr = p[0].get_color()\n",
    "#         for i in range(1,baseline.shape[0]):\n",
    "#             ax.plot(df_train.date, np.exp(baseline[i,:]), color=clr, alpha=0.05)\n",
    "#         ax.plot(df_train.date, np.exp(np.mean(baseline,axis=0)),label='Mean of Posterior Baseline');\n",
    "        p = ax.plot(df_train.date, np.exp(seasonality[0,:]), alpha=0.05)\n",
    "        clr = p[0].get_color()\n",
    "        for i in range(1,seasonality.shape[0]):\n",
    "            ax.plot(df_train.date, np.exp(seasonality[i,:]), color=clr, alpha=0.05)\n",
    "        ax.plot(df_train.date, np.exp(np.mean(seasonality,axis=0)),label='Mean of Posterior Seasonality');\n",
    "        p = ax.plot(df_train.date, np.exp(holiday_effect[0,:]), alpha=0.05)\n",
    "        clr = p[0].get_color()\n",
    "        for i in range(1,holiday_effect.shape[0]):\n",
    "            ax.plot(df_train.date, np.exp(holiday_effect[i,:]), color=clr, alpha=0.05)\n",
    "        ax.plot(df_train.date, np.exp(np.mean(holiday_effect,axis=0)),label='Mean of Posterior Holiday Effect')\n",
    "    if plot_test:\n",
    "#         p = ax.plot(df_test.date, np.exp(test_baseline[0,:]), alpha=0.05)\n",
    "#         clr = p[0].get_color()\n",
    "#         for i in range(1,test_baseline.shape[0]):\n",
    "#             ax.plot(df_test.date, np.exp(test_baseline[i,:]), color=clr, alpha=0.05)\n",
    "#         ax.plot(df_test.date, np.exp(np.mean(test_baseline,axis=0)),label='Mean of Posterior Baseline OOS');\n",
    "        p = ax.plot(df_test.date, np.exp(test_seasonality[0,:]), alpha=0.05)\n",
    "        clr = p[0].get_color()\n",
    "        for i in range(1,test_seasonality.shape[0]):\n",
    "            ax.plot(df_test.date, np.exp(test_seasonality[i,:]), color=clr, alpha=0.05)\n",
    "        ax.plot(df_test.date, np.exp(np.mean(test_seasonality,axis=0)),label='Mean of Posterior Seasonality OOS');\n",
    "        p = ax.plot(df_test.date, np.exp(test_holiday_effect[0,:]), alpha=0.05)\n",
    "        clr = p[0].get_color()\n",
    "        for i in range(1,test_holiday_effect.shape[0]):\n",
    "            ax.plot(df_test.date, np.exp(test_holiday_effect[i,:]), color=clr, alpha=0.05)\n",
    "        ax.plot(df_test.date, np.exp(np.mean(test_holiday_effect,axis=0)),label='Mean of Posterior Holiday Effect OOS')\n",
    "    ax1 = ax.twinx()\n",
    "    if plot_train and plot_test:\n",
    "        ax1.plot(df.date,df.observed,label='Observed',lw=2,color='black');\n",
    "        ax1.set_xlim(pd.to_datetime(start_date),df.date.max())\n",
    "    elif plot_train:\n",
    "        ax1.plot(df_train.date,df_train.observed,label='Observed',lw=2,color='black');\n",
    "        ax1.set_xlim(pd.to_datetime(start_date),df_train.date.max())\n",
    "    elif plot_test:\n",
    "        ax1.plot(df_test.date,df_test.observed,label='Observed',lw=2,color='black');\n",
    "    ax.set_xlabel('Date')\n",
    "    ax.set_ylabel('Observed')\n",
    "    ax.legend(bbox_to_anchor=(1.05, 1), loc='upper left');\n",
    "    for i in range(0,5,2):\n",
    "        plt.axvspan(pd.to_datetime(start_date) + i*pd.offsets.DateOffset(years=1),\n",
    "                    pd.to_datetime(start_date) + (i+1)*pd.offsets.DateOffset(years=1),\n",
    "                    facecolor='gray', alpha=0.25)\n",
    "    plt.title(filename.split('/')[-1].split('.csv')[0])\n",
    "    plt.show()\n",
    "    return None"
   ]
  },
  {
   "cell_type": "code",
   "execution_count": 10,
   "metadata": {
    "code_folding": [
     1,
     4,
     25
    ]
   },
   "outputs": [],
   "source": [
    "from utils import create_d_peak, create_holiday_mask, get_holiday_dataframe\n",
    "def inv_logit(u):\n",
    "    return 1.0/(1.0+np.exp(-u))\n",
    "\n",
    "def get_holiday_lift(\n",
    "    h_skew, \n",
    "    h_shape,\n",
    "    h_scale,\n",
    "    h_loc,\n",
    "    intensity,\n",
    "    d_peak,\n",
    "    lb,\n",
    "    ub\n",
    "  ):\n",
    "    num_holidays, num_dates = d_peak.shape\n",
    "    tdd = np.zeros((h_loc.shape[0],h_loc.shape[1],d_peak[0,:].shape[0]))\n",
    "\n",
    "    for t in range(num_dates):\n",
    "        for h in range(num_holidays):\n",
    "            if ((d_peak[h,t] > lb[h]) and (d_peak[h,t] < ub[h])):\n",
    "                z = (d_peak[h,t] - h_loc[:,h]) / h_scale[:,h]\n",
    "                tdd[:,h,t] += (2.0 * intensity[:,h] * np.exp(-np.abs(z)**h_shape[:,h])*inv_logit(h_skew[:,h] * z)\n",
    "                           * np.exp(-1.0/((ub[h]-d_peak[h,t])*(d_peak[h,t]-lb[h]))));\n",
    "    return tdd\n",
    "\n",
    "def get_individual_holidays(df,df_fit,train_split=80,return_all=False):\n",
    "    start_date = df['date'].min()\n",
    "    end_date = df['date'].max()\n",
    "\n",
    "    holiday_years = list(\n",
    "        range(pd.to_datetime(start_date).year-1,\n",
    "              pd.to_datetime(end_date).year+1\n",
    "              )\n",
    "    )\n",
    "    holiday_list = get_holiday_dataframe(\n",
    "        years=holiday_years\n",
    "        ).sort_values(by='HolidayDate').reset_index()\n",
    "    \n",
    "    train_date = df.date.iloc[int((train_split/100)*df.date.shape[0])]\n",
    "\n",
    "    df_train = df[df.date <= train_date]\n",
    "    df_test = df[df.date > train_date]\n",
    "\n",
    "    d_peak = create_d_peak(df_train.date, holiday_list)\n",
    "    d_peak_test = create_d_peak(df_test.date, holiday_list)\n",
    "    \n",
    "    h_skew = df_fit.stan_variable('h_skew').values\n",
    "    h_shape = df_fit.stan_variable('h_shape').values\n",
    "    h_scale = df_fit.stan_variable('h_scale').values\n",
    "    h_loc = df_fit.stan_variable('h_loc').values\n",
    "    intensity = df_fit.stan_variable('intensity').values\n",
    "    \n",
    "    df_bounds = holiday_list.groupby(by='HolidayName').agg(\n",
    "        {'days_behind_diff': min, 'days_ahead_diff': min}\n",
    "        ).reindex(\n",
    "        holiday_list.head(\n",
    "            holiday_list.HolidayName.unique().shape[0]\n",
    "            ).HolidayName\n",
    "        ).rename(\n",
    "        columns={'days_behind_diff': 'lower_bounds',\n",
    "                 'days_ahead_diff': 'upper_bounds'}\n",
    "        )\n",
    "    lb = -df_bounds.lower_bounds.dt.days.values\n",
    "    ub = df_bounds.upper_bounds.dt.days.values\n",
    "    \n",
    "    hols_train = get_holiday_lift(h_skew, h_shape, h_scale, h_loc, intensity, d_peak, lb, ub)\n",
    "    hols_test = get_holiday_lift(h_skew, h_shape, h_scale, h_loc, intensity, d_peak_test, lb, ub)\n",
    "    \n",
    "    if return_all:\n",
    "        return holiday_list, h_skew, h_shape, h_scale, h_loc, intensity, hols_train, hols_test, df_train, df_test\n",
    "    else:\n",
    "        return holiday_list, hols_train, hols_test, df_train, df_test\n"
   ]
  },
  {
   "cell_type": "code",
   "execution_count": 11,
   "metadata": {
    "code_folding": [
     0
    ]
   },
   "outputs": [],
   "source": [
    "def plot_individual_holidays(times,tdd,hol_names):\n",
    "    for h in range(tdd.shape[1]):\n",
    "        for j in range(tdd.shape[0]):\n",
    "            plt.plot(times, tdd[j,h,:],color='orange',alpha=0.1)\n",
    "        plt.plot(times, np.mean(tdd[:,h,:],axis=0),color='firebrick',lw=2)\n",
    "        plt.title(hol_names[h])\n",
    "        plt.show()"
   ]
  },
  {
   "cell_type": "code",
   "execution_count": 12,
   "metadata": {},
   "outputs": [],
   "source": [
    "holiday_files = ['chocolate',\n",
    "                 'fireworks_worldwide',\n",
    "                 'pumpkin_spice'\n",
    "                ]"
   ]
  },
  {
   "cell_type": "code",
   "execution_count": 13,
   "metadata": {},
   "outputs": [],
   "source": [
    "start_date = '2015-11-08'"
   ]
  },
  {
   "cell_type": "code",
   "execution_count": null,
   "metadata": {
    "scrolled": true
   },
   "outputs": [
    {
     "name": "stdout",
     "output_type": "stream",
     "text": [
      "/Users/danmarthaler/marthaler/holidays/data/chocolate.csv\n"
     ]
    },
    {
     "name": "stderr",
     "output_type": "stream",
     "text": [
      "INFO:cmdstanpy:found newer exe file, not recompiling\n",
      "INFO:cmdstanpy:compiled model file: /Users/danmarthaler/marthaler/holidays/new_model/new_holiday_model\n",
      "Chain 1 - warmup:   0%|          | 0/1 [00:00<?, ?it/s]\n",
      "Chain 1 - warmup:   0%|          | 0/1 [00:00<?, ?it/s]\u001b[A\n",
      "Chain 2 - warmup:   0%|          | 0/1 [00:00<?, ?it/s]\u001b[A\n",
      "Chain 1 - warmup:   0%|          | 0/500 [00:00<?, ?it/s]\u001b[A\n",
      "Chain 2 - warmup:  20%|██        | 100/500 [22:40<1:30:42, 13.61s/it]\u001b[A"
     ]
    }
   ],
   "source": [
    "holiday_fits = []\n",
    "holiday_df = []\n",
    "names = []\n",
    "for file in holiday_files:\n",
    "    filename = '/Users/danmarthaler/marthaler/holidays/data/' + file + '.csv'\n",
    "    print(filename)\n",
    "    df, fit = fit_holiday_model(filename,\n",
    "                                start_date=start_date,\n",
    "                                train_split=80,\n",
    "                                num_chains=2,\n",
    "                                max_treedepth=15,\n",
    "                                adapt_delta=0.99)\n",
    "    #plot_posteriors(df,fit,filename)\n",
    "    holiday_fits.append(fit)\n",
    "    holiday_df.append(df)\n",
    "    names.append(file)\n"
   ]
  },
  {
   "cell_type": "code",
   "execution_count": null,
   "metadata": {},
   "outputs": [],
   "source": [
    "#holiday_fits[2].diagnose()"
   ]
  },
  {
   "cell_type": "code",
   "execution_count": null,
   "metadata": {
    "scrolled": true
   },
   "outputs": [],
   "source": [
    "for i,name in enumerate(names):\n",
    "    print(names[i])\n",
    "    plot_posteriors(holiday_df[i],holiday_fits[i],name)"
   ]
  },
  {
   "cell_type": "code",
   "execution_count": null,
   "metadata": {
    "scrolled": false
   },
   "outputs": [],
   "source": [
    "# for i,name in enumerate(names):\n",
    "#     print(names[i])\n",
    "#     plot_components(holiday_df[i],holiday_fits[i],name,start_date=start_date)\n"
   ]
  },
  {
   "cell_type": "code",
   "execution_count": null,
   "metadata": {},
   "outputs": [],
   "source": [
    "# Santa Claus\n",
    "print(names[-2])\n",
    "# h_skew=-4.89\n",
    "# h_shape=1.1\n",
    "# h_scale=2.3\n",
    "# h_loc=-0.5\n",
    "# intensity=3.7"
   ]
  },
  {
   "cell_type": "code",
   "execution_count": null,
   "metadata": {},
   "outputs": [],
   "source": [
    "# Tax Refund\n",
    "print(names[-1])\n",
    "# h_skew=5.04\n",
    "# h_shape=0.8\n",
    "# h_scale=4.2\n",
    "# h_loc=-0.2\n",
    "# intensity=2.8\n"
   ]
  },
  {
   "cell_type": "code",
   "execution_count": null,
   "metadata": {},
   "outputs": [],
   "source": [
    "#num_holidays = holiday_list.HolidayName.unique().shape[0]\n",
    "#hol_names = holiday_list.head(num_holidays).HolidayName"
   ]
  },
  {
   "cell_type": "code",
   "execution_count": null,
   "metadata": {},
   "outputs": [],
   "source": [
    "name_index = 2\n",
    "print(names[name_index])\n",
    "train_base = holiday_fits[name_index].stan_variable('baseline')\n",
    "seas = holiday_fits[name_index].stan_variable('seasonality')\n",
    "holiday_list, h_skew, h_shape, h_scale, h_loc, intensity, hols_train, hols_test, df_train, df_test = get_individual_holidays(\n",
    "    holiday_df[name_index],holiday_fits[name_index],return_all=True)"
   ]
  },
  {
   "cell_type": "code",
   "execution_count": null,
   "metadata": {},
   "outputs": [],
   "source": [
    "test_base = holiday_fits[name_index].stan_variable('test_baseline').values\n",
    "test_seas = holiday_fits[name_index].stan_variable('test_seasonality').values\n",
    "seas = holiday_fits[name_index].stan_variable('seasonality').values"
   ]
  },
  {
   "cell_type": "code",
   "execution_count": null,
   "metadata": {},
   "outputs": [],
   "source": [
    "hols = np.concatenate((hols_train,hols_test),axis=2)\n",
    "seas_all = np.concatenate((seas,test_seas),axis=1)\n",
    "baseline = np.concatenate((train_base,test_base),axis=1)"
   ]
  },
  {
   "cell_type": "code",
   "execution_count": null,
   "metadata": {
    "code_folding": []
   },
   "outputs": [],
   "source": [
    "if names[name_index] == 'pumpkin_spice':\n",
    "    colors = ['blue','red','brown','tan']\n",
    "    ### fig, ax = plt.subplots(figsize=(16,10))\n",
    "    num_holidays = hols_test.shape[1]\n",
    "    hol_names = holiday_list.head(num_holidays).HolidayName\n",
    "    fig, ax = plt.subplots(figsize=(16,12))\n",
    "    count = 0\n",
    "    for h in [8,11]:\n",
    "        inds = sorted(np.where(np.abs(np.mean(hols[:,h,:],axis=0)>0.1))[0])\n",
    "        val = np.exp(baseline[0,:] + seas_all[0,:])\n",
    "        val[inds] = np.exp(baseline[0,inds] + seas_all[0,inds] + hols[0,h,inds])\n",
    "        p = ax.plot(df.date, val,alpha=0.1,color=colors[count])\n",
    "        clr = p[0].get_color()\n",
    "        for i in range(1,hols.shape[0]):\n",
    "            val = np.exp(baseline[i,:] + seas_all[i,:])\n",
    "            val[inds] = np.exp(baseline[i,inds] + seas_all[i,inds] + hols[i,h,inds])\n",
    "            ax.plot(df.date,\n",
    "                    val,color=clr,\n",
    "                    alpha=0.01\n",
    "                    )\n",
    "        val = np.exp(baseline + seas_all).mean(axis=0)\n",
    "        val[inds] = np.exp(baseline[:,inds] + seas_all[:,inds] + hols[:,h,inds]).mean(axis=0)\n",
    "        ax.plot(df.date,\n",
    "                val,\n",
    "                label=hol_names[h],lw=2,color=colors[count+1])\n",
    "        count+=2\n",
    "    for i in range(seas.shape[0]):\n",
    "        ax.plot(df.date, np.exp(baseline[i,:] + seas_all[i,:]), color='orange', alpha=0.1)\n",
    "    ax.plot(df.date, np.exp(np.mean(baseline+seas_all,axis=0)), color='firebrick', lw=2,label='Seasonality')\n",
    "    #ax.legend(bbox_to_anchor=(1.05, 1), loc='upper left')\n",
    "    ax.legend(loc='upper left')\n",
    "    name = names[name_index]\n",
    "    plt.title(f'Seasonality and Individual Holiday Contributions for {name}')\n",
    "    first_date = pd.to_datetime('2018-01-01')\n",
    "    \n",
    "    \n",
    "    for i in range(0,3,2):\n",
    "        plt.axvspan(first_date + i*pd.offsets.DateOffset(years=1),\n",
    "                    first_date + (i+1)*pd.offsets.DateOffset(years=1),\n",
    "                    facecolor='gray', alpha=0.25)\n",
    "    plt.xlim(first_date,df.date.max());\n",
    "    plt.xticks(rotation=90);\n",
    "    plt.show();"
   ]
  },
  {
   "cell_type": "code",
   "execution_count": null,
   "metadata": {
    "code_folding": [
     0
    ]
   },
   "outputs": [],
   "source": [
    "if names[name_index] == 'fireworks_worldwide':\n",
    "    colors = ['pink','hotpink','gray','purple','cyan','blue','orange','black','green','red']\n",
    "    num_holidays = hols_test.shape[1]\n",
    "    hol_names = holiday_list.head(num_holidays).HolidayName\n",
    "    fig, ax = plt.subplots(figsize=(16,12))\n",
    "    count = 0\n",
    "    for h in [0,6,7,10,12]:\n",
    "        inds = sorted(np.where(np.abs(np.mean(hols[:,h,:],axis=0)>0.01))[0])\n",
    "        kk = np.where(np.diff(inds)>1)[0]   \n",
    "        for i in range(hols.shape[0]):\n",
    "            val = np.exp(baseline[i,:] + seas_all[i,:])\n",
    "            val[inds] = np.exp(baseline[i,inds] + seas_all[i,inds] + hols[i,h,inds])\n",
    "            c = 0\n",
    "            for k in kk:\n",
    "                ax.plot(df.date[inds[c:k+1]],\n",
    "                        val[inds[c:k+1]],\n",
    "                        alpha=0.05,\n",
    "                        color=colors[count])\n",
    "                c=(k+1)\n",
    "            ax.plot(df.date[inds[c:]],\n",
    "                    val[inds[c:]],\n",
    "                    alpha=0.05,\n",
    "                    color=colors[count])\n",
    "        count+=2\n",
    "    count = 0\n",
    "    for h in [0,6,7,10,12]:\n",
    "        inds = sorted(np.where(np.abs(np.mean(hols[:,h,:],axis=0)>0.01))[0])\n",
    "        kk = np.where(np.diff(inds)>1)[0]   \n",
    "        val = np.exp(baseline + seas_all).mean(axis=0)\n",
    "        val[inds] = np.exp(baseline[:,inds] + seas_all[:,inds] + hols[:,h,inds]).mean(axis=0)\n",
    "        c = 0\n",
    "        for k in kk:\n",
    "            ax.plot(df.date[inds[c:k+1]],\n",
    "                val[inds[c:k+1]],lw=2,color=colors[count+1])\n",
    "            c=(k+1)\n",
    "        ax.plot(df.date[inds[c:]],\n",
    "                val[inds[c:]],\n",
    "                label=hol_names[h],lw=2,color=colors[count+1])\n",
    "        count+=2\n",
    "    for i in range(seas.shape[0]):\n",
    "        ax.plot(df.date, np.exp(baseline[i,:] + seas_all[i,:]), color='orange', alpha=0.005)\n",
    "    ax.plot(df.date, np.exp(np.mean(baseline+seas_all,axis=0)), color='navajowhite', lw=2,label='Seasonality')\n",
    "    #ax.legend(bbox_to_anchor=(1.05, 1), loc='upper left')\n",
    "    ax.legend(loc='upper right')\n",
    "    name = names[name_index]\n",
    "    plt.title(f'Seasonality and Individual Holiday Contributions for fireworks')\n",
    "    first_date = pd.to_datetime('2018-01-01')\n",
    "    \n",
    "    \n",
    "    for i in range(0,3,2):\n",
    "        plt.axvspan(first_date + i*pd.offsets.DateOffset(years=1),\n",
    "                    first_date + (i+1)*pd.offsets.DateOffset(years=1),\n",
    "                    facecolor='gray', alpha=0.25)\n",
    "    plt.xlim(first_date,df.date.max());\n",
    "    plt.xticks(rotation=90);\n",
    "    plt.show();"
   ]
  },
  {
   "cell_type": "code",
   "execution_count": null,
   "metadata": {},
   "outputs": [],
   "source": []
  }
 ],
 "metadata": {
  "kernelspec": {
   "display_name": "Python 3",
   "language": "python",
   "name": "python3"
  },
  "language_info": {
   "codemirror_mode": {
    "name": "ipython",
    "version": 3
   },
   "file_extension": ".py",
   "mimetype": "text/x-python",
   "name": "python",
   "nbconvert_exporter": "python",
   "pygments_lexer": "ipython3",
   "version": "3.7.7"
  }
 },
 "nbformat": 4,
 "nbformat_minor": 2
}
